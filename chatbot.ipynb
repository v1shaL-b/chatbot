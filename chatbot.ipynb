{
  "nbformat": 4,
  "nbformat_minor": 0,
  "metadata": {
    "colab": {
      "name": "chatbot.ipynb",
      "provenance": [],
      "collapsed_sections": [],
      "authorship_tag": "ABX9TyMU8vsh2N30AdIcy+coRSZi",
      "include_colab_link": true
    },
    "kernelspec": {
      "name": "python3",
      "display_name": "Python 3"
    }
  },
  "cells": [
    {
      "cell_type": "markdown",
      "metadata": {
        "id": "view-in-github",
        "colab_type": "text"
      },
      "source": [
        "<a href=\"https://colab.research.google.com/github/v1shaL-b/chatbot/blob/master/chatbot.ipynb\" target=\"_parent\"><img src=\"https://colab.research.google.com/assets/colab-badge.svg\" alt=\"Open In Colab\"/></a>"
      ]
    },
    {
      "cell_type": "code",
      "metadata": {
        "id": "gvNi7pzuocrO",
        "colab_type": "code",
        "outputId": "cac05b49-4e71-46d5-f9e7-44b04565fcaf",
        "colab": {
          "base_uri": "https://localhost:8080/",
          "height": 53
        }
      },
      "source": [
        "pip install nltk"
      ],
      "execution_count": 0,
      "outputs": [
        {
          "output_type": "stream",
          "text": [
            "Requirement already satisfied: nltk in /usr/local/lib/python3.6/dist-packages (3.2.5)\n",
            "Requirement already satisfied: six in /usr/local/lib/python3.6/dist-packages (from nltk) (1.12.0)\n"
          ],
          "name": "stdout"
        }
      ]
    },
    {
      "cell_type": "code",
      "metadata": {
        "id": "i8WxdZJSo4eM",
        "colab_type": "code",
        "outputId": "fc9dfe04-7881-4c9b-eeb6-049bf1ea6cbf",
        "colab": {
          "base_uri": "https://localhost:8080/",
          "height": 907
        }
      },
      "source": [
        "pip install newspaper3k"
      ],
      "execution_count": 0,
      "outputs": [
        {
          "output_type": "stream",
          "text": [
            "Collecting newspaper3k\n",
            "\u001b[?25l  Downloading https://files.pythonhosted.org/packages/d7/b9/51afecb35bb61b188a4b44868001de348a0e8134b4dfa00ffc191567c4b9/newspaper3k-0.2.8-py3-none-any.whl (211kB)\n",
            "\r\u001b[K     |█▌                              | 10kB 21.2MB/s eta 0:00:01\r\u001b[K     |███                             | 20kB 3.1MB/s eta 0:00:01\r\u001b[K     |████▋                           | 30kB 4.5MB/s eta 0:00:01\r\u001b[K     |██████▏                         | 40kB 3.0MB/s eta 0:00:01\r\u001b[K     |███████▊                        | 51kB 3.6MB/s eta 0:00:01\r\u001b[K     |█████████▎                      | 61kB 4.3MB/s eta 0:00:01\r\u001b[K     |██████████▉                     | 71kB 4.9MB/s eta 0:00:01\r\u001b[K     |████████████▍                   | 81kB 5.5MB/s eta 0:00:01\r\u001b[K     |██████████████                  | 92kB 6.2MB/s eta 0:00:01\r\u001b[K     |███████████████▌                | 102kB 4.9MB/s eta 0:00:01\r\u001b[K     |█████████████████               | 112kB 4.9MB/s eta 0:00:01\r\u001b[K     |██████████████████▋             | 122kB 4.9MB/s eta 0:00:01\r\u001b[K     |████████████████████▏           | 133kB 4.9MB/s eta 0:00:01\r\u001b[K     |█████████████████████▊          | 143kB 4.9MB/s eta 0:00:01\r\u001b[K     |███████████████████████▎        | 153kB 4.9MB/s eta 0:00:01\r\u001b[K     |████████████████████████▉       | 163kB 4.9MB/s eta 0:00:01\r\u001b[K     |██████████████████████████▍     | 174kB 4.9MB/s eta 0:00:01\r\u001b[K     |████████████████████████████    | 184kB 4.9MB/s eta 0:00:01\r\u001b[K     |█████████████████████████████▌  | 194kB 4.9MB/s eta 0:00:01\r\u001b[K     |███████████████████████████████ | 204kB 4.9MB/s eta 0:00:01\r\u001b[K     |████████████████████████████████| 215kB 4.9MB/s \n",
            "\u001b[?25hCollecting cssselect>=0.9.2\n",
            "  Downloading https://files.pythonhosted.org/packages/3b/d4/3b5c17f00cce85b9a1e6f91096e1cc8e8ede2e1be8e96b87ce1ed09e92c5/cssselect-1.1.0-py2.py3-none-any.whl\n",
            "Requirement already satisfied: requests>=2.10.0 in /usr/local/lib/python3.6/dist-packages (from newspaper3k) (2.21.0)\n",
            "Requirement already satisfied: python-dateutil>=2.5.3 in /usr/local/lib/python3.6/dist-packages (from newspaper3k) (2.6.1)\n",
            "Collecting tinysegmenter==0.3\n",
            "  Downloading https://files.pythonhosted.org/packages/17/82/86982e4b6d16e4febc79c2a1d68ee3b707e8a020c5d2bc4af8052d0f136a/tinysegmenter-0.3.tar.gz\n",
            "Requirement already satisfied: lxml>=3.6.0 in /usr/local/lib/python3.6/dist-packages (from newspaper3k) (4.2.6)\n",
            "Collecting feedfinder2>=0.0.4\n",
            "  Downloading https://files.pythonhosted.org/packages/35/82/1251fefec3bb4b03fd966c7e7f7a41c9fc2bb00d823a34c13f847fd61406/feedfinder2-0.0.4.tar.gz\n",
            "Requirement already satisfied: Pillow>=3.3.0 in /usr/local/lib/python3.6/dist-packages (from newspaper3k) (6.2.2)\n",
            "Collecting feedparser>=5.2.1\n",
            "\u001b[?25l  Downloading https://files.pythonhosted.org/packages/91/d8/7d37fec71ff7c9dbcdd80d2b48bcdd86d6af502156fc93846fb0102cb2c4/feedparser-5.2.1.tar.bz2 (192kB)\n",
            "\u001b[K     |████████████████████████████████| 194kB 56.6MB/s \n",
            "\u001b[?25hCollecting tldextract>=2.0.1\n",
            "\u001b[?25l  Downloading https://files.pythonhosted.org/packages/fd/0e/9ab599d6e78f0340bb1d1e28ddeacb38c8bb7f91a1b0eae9a24e9603782f/tldextract-2.2.2-py2.py3-none-any.whl (48kB)\n",
            "\u001b[K     |████████████████████████████████| 51kB 7.7MB/s \n",
            "\u001b[?25hRequirement already satisfied: beautifulsoup4>=4.4.1 in /usr/local/lib/python3.6/dist-packages (from newspaper3k) (4.6.3)\n",
            "Requirement already satisfied: PyYAML>=3.11 in /usr/local/lib/python3.6/dist-packages (from newspaper3k) (3.13)\n",
            "Collecting jieba3k>=0.35.1\n",
            "\u001b[?25l  Downloading https://files.pythonhosted.org/packages/a9/cb/2c8332bcdc14d33b0bedd18ae0a4981a069c3513e445120da3c3f23a8aaa/jieba3k-0.35.1.zip (7.4MB)\n",
            "\u001b[K     |████████████████████████████████| 7.4MB 51.1MB/s \n",
            "\u001b[?25hRequirement already satisfied: nltk>=3.2.1 in /usr/local/lib/python3.6/dist-packages (from newspaper3k) (3.2.5)\n",
            "Requirement already satisfied: chardet<3.1.0,>=3.0.2 in /usr/local/lib/python3.6/dist-packages (from requests>=2.10.0->newspaper3k) (3.0.4)\n",
            "Requirement already satisfied: urllib3<1.25,>=1.21.1 in /usr/local/lib/python3.6/dist-packages (from requests>=2.10.0->newspaper3k) (1.24.3)\n",
            "Requirement already satisfied: idna<2.9,>=2.5 in /usr/local/lib/python3.6/dist-packages (from requests>=2.10.0->newspaper3k) (2.8)\n",
            "Requirement already satisfied: certifi>=2017.4.17 in /usr/local/lib/python3.6/dist-packages (from requests>=2.10.0->newspaper3k) (2019.11.28)\n",
            "Requirement already satisfied: six>=1.5 in /usr/local/lib/python3.6/dist-packages (from python-dateutil>=2.5.3->newspaper3k) (1.12.0)\n",
            "Collecting requests-file>=1.4\n",
            "  Downloading https://files.pythonhosted.org/packages/23/9c/6e63c23c39e53d3df41c77a3d05a49a42c4e1383a6d2a5e3233161b89dbf/requests_file-1.4.3-py2.py3-none-any.whl\n",
            "Requirement already satisfied: setuptools in /usr/local/lib/python3.6/dist-packages (from tldextract>=2.0.1->newspaper3k) (45.2.0)\n",
            "Building wheels for collected packages: tinysegmenter, feedfinder2, feedparser, jieba3k\n",
            "  Building wheel for tinysegmenter (setup.py) ... \u001b[?25l\u001b[?25hdone\n",
            "  Created wheel for tinysegmenter: filename=tinysegmenter-0.3-cp36-none-any.whl size=13539 sha256=de25c68f5b0269f32e71beb691bb3a5716199521eb69f1ef964dbb038a9949dd\n",
            "  Stored in directory: /root/.cache/pip/wheels/81/2b/43/a02ede72324dd40cdd7ca53aad718c7710628e91b8b0dc0f02\n",
            "  Building wheel for feedfinder2 (setup.py) ... \u001b[?25l\u001b[?25hdone\n",
            "  Created wheel for feedfinder2: filename=feedfinder2-0.0.4-cp36-none-any.whl size=3357 sha256=5c4f68fec5c6e478508bbc094bc9349e636060bf290a57bb066f5d6ea32c2995\n",
            "  Stored in directory: /root/.cache/pip/wheels/de/03/ca/778e3a7a627e3d98836cc890e7cb40c7575424cfd3340f40ed\n",
            "  Building wheel for feedparser (setup.py) ... \u001b[?25l\u001b[?25hdone\n",
            "  Created wheel for feedparser: filename=feedparser-5.2.1-cp36-none-any.whl size=44940 sha256=4d9ceddd6ee837c586f0044a8986aa87600cdc894718fd8ace5d4d05e3358faf\n",
            "  Stored in directory: /root/.cache/pip/wheels/8c/69/b7/f52763c41c5471df57703a0ef718a32a5e81ee35dcf6d4f97f\n",
            "  Building wheel for jieba3k (setup.py) ... \u001b[?25l\u001b[?25hdone\n",
            "  Created wheel for jieba3k: filename=jieba3k-0.35.1-cp36-none-any.whl size=7398406 sha256=381e87f7cf72cddfa0ec8fc693f4c15707a2625f8d98e5f1b99c15ac92eedc85\n",
            "  Stored in directory: /root/.cache/pip/wheels/83/15/9c/a3f1f67e7f7181170ad37d32e503c35da20627c013f438ed34\n",
            "Successfully built tinysegmenter feedfinder2 feedparser jieba3k\n",
            "Installing collected packages: cssselect, tinysegmenter, feedfinder2, feedparser, requests-file, tldextract, jieba3k, newspaper3k\n",
            "Successfully installed cssselect-1.1.0 feedfinder2-0.0.4 feedparser-5.2.1 jieba3k-0.35.1 newspaper3k-0.2.8 requests-file-1.4.3 tinysegmenter-0.3 tldextract-2.2.2\n"
          ],
          "name": "stdout"
        }
      ]
    },
    {
      "cell_type": "code",
      "metadata": {
        "id": "uywqHQqkpF0A",
        "colab_type": "code",
        "colab": {}
      },
      "source": [
        "#Install Libraries\n",
        "from newspaper import Article\n",
        "import random\n",
        "import string\n",
        "from sklearn.feature_extraction.text import TfidfVectorizer\n",
        "from sklearn.metrics.pairwise import cosine_similarity\n",
        "import nltk\n",
        "import numpy as np\n",
        "import warnings"
      ],
      "execution_count": 0,
      "outputs": []
    },
    {
      "cell_type": "code",
      "metadata": {
        "id": "_SCiCvltpnYO",
        "colab_type": "code",
        "colab": {}
      },
      "source": [
        "#Ignore warning messages\n",
        "warnings.filterwarnings('ignore')"
      ],
      "execution_count": 0,
      "outputs": []
    },
    {
      "cell_type": "code",
      "metadata": {
        "id": "ZuAlA73rpxq9",
        "colab_type": "code",
        "outputId": "8774ffba-8622-4074-9807-63dcb5a7a104",
        "colab": {
          "base_uri": "https://localhost:8080/",
          "height": 35
        }
      },
      "source": [
        "#Download the packages from NLTK\n",
        "nltk.download('punkt', quiet=True)\n",
        "nltk.download('wordnet', quiet=True)\n"
      ],
      "execution_count": 0,
      "outputs": [
        {
          "output_type": "execute_result",
          "data": {
            "text/plain": [
              "True"
            ]
          },
          "metadata": {
            "tags": []
          },
          "execution_count": 9
        }
      ]
    },
    {
      "cell_type": "code",
      "metadata": {
        "id": "aEKMEI8KqlR8",
        "colab_type": "code",
        "colab": {}
      },
      "source": [
        "#Get the article URL\n",
        "article = Article('https://www.mayoclinic.org/diseases-conditions/chronic-kidney-disease/symptoms-causes/syc-20354521')\n",
        "article.download()\n",
        "article.parse()\n",
        "article.nlp()\n",
        "corpus = article.text\n",
        "\n",
        "#Print the corpus/text\n",
        "print(corpus)"
      ],
      "execution_count": 0,
      "outputs": []
    },
    {
      "cell_type": "code",
      "metadata": {
        "id": "zd2_9xZRrxkb",
        "colab_type": "code",
        "colab": {}
      },
      "source": [
        "#Tokenization\n",
        "text = corpus\n",
        "sent_tokens = nltk.sent_tokenize(text) #Convert the text into a list of sentences\n",
        "\n",
        "#Print the list of sentences\n",
        "print(sent_tokens)"
      ],
      "execution_count": 0,
      "outputs": []
    },
    {
      "cell_type": "code",
      "metadata": {
        "id": "Jqi9YrWGsL1I",
        "colab_type": "code",
        "colab": {}
      },
      "source": [
        "#Create a dictionary (key:value) pair to remove punctuations\n",
        "remove_punct_dict = dict(  ( ord(punct),None) for punct in string.punctuation)\n",
        "\n",
        "#Print the punctuations\n",
        "print(string.punctuation)\n",
        "\n",
        "#Print the dictionary\n",
        "print(remove_punct_dict)"
      ],
      "execution_count": 0,
      "outputs": []
    },
    {
      "cell_type": "code",
      "metadata": {
        "id": "pjn-svc2sxqN",
        "colab_type": "code",
        "colab": {}
      },
      "source": [
        "#Create a function to return a list of lemmatized lower case words after removing punctuations\n",
        "def LemNormalize(text):\n",
        "  return nltk.word_tokenize(text.lower().translate(remove_punct_dict))\n",
        "\n",
        "#Print the tokenization text\n",
        "print(LemNormalize(text))"
      ],
      "execution_count": 0,
      "outputs": []
    },
    {
      "cell_type": "code",
      "metadata": {
        "id": "u2UuvljhtVl9",
        "colab_type": "code",
        "colab": {}
      },
      "source": [
        "#Keyword Matching\n",
        "\n",
        "#Greeting Inputs\n",
        "GREETING_INPUTS = [\"hi\", \"hello\", \"hola\", \"greetings\", \"wassup\", \"hey\"]\n",
        "\n",
        "#Greeting responses back to the user\n",
        "GREETING_RESPONSES=[\"howdy\", \"hi\", \"hey\", \"what's up\", \"hello\", \"hey there\"]\n",
        "\n",
        "#Function to return a random greeting response to a users greeting\n",
        "def greeting(sentence):\n",
        "  #if the user's input is a greeting, then return a randomly chosen greeting response\n",
        "  for word in sentence.split():\n",
        "    if word.lower() in GREETING_INPUTS:\n",
        "      return random.choice(GREETING_RESPONSES)\n"
      ],
      "execution_count": 0,
      "outputs": []
    },
    {
      "cell_type": "code",
      "metadata": {
        "id": "y8v2i6q6ud1i",
        "colab_type": "code",
        "colab": {}
      },
      "source": [
        "#Generate the response\n",
        "def response(user_response):\n",
        " \n",
        "  user_response = user_response.lower() #Make the response lower case\n",
        "\n",
        "  #Set the chatbot response to an empty string\n",
        "  robo_response = ''\n",
        "\n",
        "  #Append the users response to the sentence list\n",
        "  sent_tokens.append(user_response)\n",
        "\n",
        "  #Create a TfidfVectorizer Object\n",
        "  TfidfVec = TfidfVectorizer(tokenizer = LemNormalize, stop_words='english')\n",
        "\n",
        "  #Convert the text to a matrix of TF-IDF features\n",
        "  tfidf = TfidfVec.fit_transform(sent_tokens)\n",
        "\n",
        "  #Get the measure of similarity (similarity scores)\n",
        "  vals = cosine_similarity(tfidf[-1], tfidf)\n",
        "\n",
        "  #Get the index of the most similar text/sentence to the users response\n",
        "  idx = vals.argsort()[0][-2]\n",
        "\n",
        "  #Reduce the dimensionality of vals\n",
        "  flat = vals.flatten()\n",
        "\n",
        "  #sort the list in ascending order\n",
        "  flat.sort()\n",
        "\n",
        "  #Get the most similar score to the users response\n",
        "  score = flat[-2]\n",
        "\n",
        "  #If the variable 'score' is 0 then their is no text similar to the users response\n",
        "  if(score == 0):\n",
        "    robo_response = robo_response+\"I apologize, I don't understand.\"\n",
        "  else:\n",
        "    robo_response = robo_response+sent_tokens[idx]\n",
        "  \n",
        "  #Remove the users response from the sentence tokens list\n",
        "  sent_tokens.remove(user_response)\n",
        "  \n",
        "  return robo_response"
      ],
      "execution_count": 0,
      "outputs": []
    },
    {
      "cell_type": "code",
      "metadata": {
        "id": "Dt4ZWVaGHPHp",
        "colab_type": "code",
        "outputId": "506e4684-72b6-4249-a173-f4ad7fe4141b",
        "colab": {
          "base_uri": "https://localhost:8080/",
          "height": 72
        }
      },
      "source": [
        "flag = True\n",
        "print(\"DOCBot: I am DOCBot. I'll answer your queries about Chronic Kidney Disease. If you want to exit, type Bye !\")\n",
        "while(flag == True):\n",
        "  user_response = input()\n",
        "  user_response = user_response.lower()\n",
        "  if(user_response != 'bye'):\n",
        "    if(user_response == 'thanks' or user_response =='thank you'):\n",
        "      flag=False\n",
        "      print(\"DOCBot: You are welcome !\")\n",
        "    else:\n",
        "      if(greeting(user_response) != None):\n",
        "        print(\"DOCBot: \"+greeting(user_response))\n",
        "      else:\n",
        "        print(\"DOCBot: \"+response(user_response))       \n",
        "  else:\n",
        "    flag = False\n",
        "    print(\"DOCBot: Chat with you later !\")"
      ],
      "execution_count": 0,
      "outputs": [
        {
          "output_type": "stream",
          "text": [
            "DOCBot: I am Doctor Bot or DOCBot for short. I will answer your queries about Chronic Kidney Disease. If you want to exit, type Bye !\n",
            "bye\n",
            "DOCBot: Chat with you later !\n"
          ],
          "name": "stdout"
        }
      ]
    },
    {
      "cell_type": "code",
      "metadata": {
        "id": "1LtFIQ9oEiUU",
        "colab_type": "code",
        "colab": {}
      },
      "source": [
        ""
      ],
      "execution_count": 0,
      "outputs": []
    }
  ]
}